{
 "cells": [
  {
   "cell_type": "code",
   "execution_count": 1,
   "metadata": {
    "collapsed": false
   },
   "outputs": [],
   "source": [
    "import os\n",
    "import sqlite3\n",
    "import csv\n",
    "from pprint import pprint\n",
    "\n",
    "os.chdir('C:\\sqlite_windows')\n",
    "sqlite_file = \"project.db\"\n",
    "conn = sqlite3.connect(sqlite_file)\n",
    "conn.text_factory = str\n",
    "cur = conn.cursor()\n",
    "\n",
    "cur.execute('DROP TABLE IF EXISTS nodes')\n",
    "conn.commit()\n",
    "\n",
    "cur.execute('''\n",
    "    Create Table nodes(id INTEGER, lat REAL, lon REAL, user TEXT, uid INTEGER, version TEXT, changeset INTEGER, timestamp TEXT)\n",
    "''')\n",
    "\n",
    "conn.commit()\n",
    "\n",
    "\n",
    "with open('nodes.csv','r') as file:\n",
    "    table = csv.DictReader(file)\n",
    "    to_table = [(i['id'], i['lat'], i['lon'], i['user'], i['uid'], i['version'], i['changeset'], i['timestamp']) for i in table]\n",
    "    cur.executemany(\"INSERT INTO nodes(id, lat, lon, user, uid, version, changeset, timestamp) VALUES (?,?,?,?,?,?,?,?);\", to_table)\n",
    "\n",
    "conn.commit()\n",
    "\n",
    "\n",
    "\n",
    "\n"
   ]
  },
  {
   "cell_type": "code",
   "execution_count": 2,
   "metadata": {
    "collapsed": false
   },
   "outputs": [
    {
     "name": "stdout",
     "output_type": "stream",
     "text": [
      "[(2327433,)]\n"
     ]
    }
   ],
   "source": [
    "# 2. Getting number of nodes in the table:\n",
    "\n",
    "cur.execute(\"SELECT COUNT(*) FROM nodes;\")\n",
    "print(cur.fetchall())"
   ]
  },
  {
   "cell_type": "code",
   "execution_count": 3,
   "metadata": {
    "collapsed": true
   },
   "outputs": [],
   "source": [
    "# 3. Forming table for ways based on ways.csv file\n",
    "\n",
    "cur.execute('DROP TABLE IF EXISTS ways')\n",
    "conn.commit()\n",
    "\n",
    "cur.execute('''\n",
    "    Create Table ways(id INTEGER, user TEXT, uid INTEGER, version TEXT, changeset INTEGER, timestamp TEXT)\n",
    "''')\n",
    "\n",
    "conn.commit()\n",
    "\n",
    "\n",
    "with open('ways.csv','r') as file:\n",
    "    table = csv.DictReader(file)\n",
    "    to_table = [(i['id'], i['user'], i['uid'], i['version'], i['changeset'], i['timestamp']) for i in table]\n",
    "    cur.executemany(\"INSERT INTO ways(id, user, uid, version, changeset, timestamp) VALUES (?,?,?,?,?,?);\", to_table)\n",
    "\n",
    "conn.commit()"
   ]
  },
  {
   "cell_type": "code",
   "execution_count": 4,
   "metadata": {
    "collapsed": false
   },
   "outputs": [
    {
     "name": "stdout",
     "output_type": "stream",
     "text": [
      "[(238981,)]\n"
     ]
    }
   ],
   "source": [
    "# 4. Getting number of ways in the table:\n",
    "\n",
    "cur.execute(\"SELECT COUNT(*) FROM ways;\")\n",
    "print(cur.fetchall())"
   ]
  },
  {
   "cell_type": "code",
   "execution_count": 5,
   "metadata": {
    "collapsed": true
   },
   "outputs": [],
   "source": [
    "# 5. Forming table for node_tags based on node_tags.csv file\n",
    "\n",
    "cur.execute('DROP TABLE IF EXISTS nodes_tags')\n",
    "conn.commit()\n",
    "\n",
    "cur.execute('''\n",
    "    Create Table nodes_tags(id INTEGER, key TEXT, value TEXT, type TEXT)\n",
    "''')\n",
    "\n",
    "conn.commit()\n",
    "\n",
    "with open('nodes_tags.csv','r') as file:\n",
    "    table = csv.DictReader(file)\n",
    "    to_table = [(i['id'], i['key'], i['value'], i['type']) for i in table]\n",
    "    cur.executemany(\"INSERT INTO nodes_tags(id, key, value, type) VALUES (?,?,?,?);\", to_table)\n",
    "\n",
    "conn.commit()"
   ]
  },
  {
   "cell_type": "code",
   "execution_count": 6,
   "metadata": {
    "collapsed": true
   },
   "outputs": [],
   "source": [
    "# 6. Forming table for way_tags based on way_tags.csv file\n",
    "\n",
    "cur.execute('DROP TABLE IF EXISTS ways_tags')\n",
    "conn.commit()\n",
    "\n",
    "cur.execute('''\n",
    "    Create Table ways_tags(id INTEGER, key TEXT, value TEXT, type TEXT)\n",
    "''')\n",
    "\n",
    "conn.commit()\n",
    "\n",
    "with open('ways_tags.csv','r') as file:\n",
    "    table = csv.DictReader(file)\n",
    "    to_table = [(i['id'], i['key'], i['value'], i['type']) for i in table]\n",
    "    cur.executemany(\"INSERT INTO ways_tags(id, key, value, type) VALUES (?,?,?,?);\", to_table)\n",
    "\n",
    "conn.commit()"
   ]
  },
  {
   "cell_type": "code",
   "execution_count": 7,
   "metadata": {
    "collapsed": true
   },
   "outputs": [],
   "source": [
    "# 7. Forming table for way_nodes based on way_nodes.csv file\n",
    "\n",
    "cur.execute('DROP TABLE IF EXISTS ways_nodes')\n",
    "conn.commit()\n",
    "\n",
    "cur.execute('''\n",
    "    Create Table ways_nodes(id INTEGER, node_id INTEGER, position INTEGER)\n",
    "''')\n",
    "\n",
    "conn.commit()\n",
    "\n",
    "with open('ways_nodes.csv','r') as file:\n",
    "    table = csv.DictReader(file)\n",
    "    to_table = [(i['id'], i['node_id'], i['position']) for i in table]\n",
    "    cur.executemany(\"INSERT INTO ways_nodes(id, node_id, position) VALUES (?,?,?);\", to_table)\n",
    "\n",
    "conn.commit()"
   ]
  },
  {
   "cell_type": "code",
   "execution_count": 8,
   "metadata": {
    "collapsed": false
   },
   "outputs": [
    {
     "name": "stdout",
     "output_type": "stream",
     "text": [
      "[(949,)]\n",
      "[('jumbanho', 1557785), ('JMDeMai', 202694), ('bdiscoe', 130371), ('woodpeck_fixbot', 113992), ('bigal945', 103428), ('yotann', 66738), ('runbananas', 41462), ('sandhill', 32488), ('MikeInRaleigh', 30730), ('Clay Hobbs', 21928)]\n"
     ]
    }
   ],
   "source": [
    "cur.execute(\"SELECT COUNT(DISTINCT(e.uid)) \\\n",
    "             FROM (SELECT uid FROM nodes UNION ALL SELECT uid FROM ways) e;\")\n",
    "print(cur.fetchall())\n",
    "\n",
    "cur.execute(\"SELECT e.user, COUNT(*) as num FROM (SELECT user FROM nodes UNION ALL SELECT user FROM ways) e \\\n",
    "             GROUP BY e.user \\\n",
    "             ORDER BY num DESC LIMIT 10;\")\n",
    "\n",
    "print(cur.fetchall())"
   ]
  },
  {
   "cell_type": "code",
   "execution_count": 9,
   "metadata": {
    "collapsed": false
   },
   "outputs": [
    {
     "name": "stdout",
     "output_type": "stream",
     "text": [
      "[('Raleigh', 5834),\n",
      " ('Cary', 2815),\n",
      " ('Morrisville', 1653),\n",
      " ('Durham', 1378),\n",
      " ('Chapel Hill', 516)]\n"
     ]
    }
   ],
   "source": [
    "#Top 5 Cities\n",
    "\n",
    "import pprint \n",
    "\n",
    "cur.execute(\"SELECT tags.value, COUNT(*) as count \\\n",
    "             FROM (SELECT * FROM nodes_tags UNION ALL SELECT * FROM ways_tags)tags \\\n",
    "             WHERE tags.key LIKE '%city'\\\n",
    "             GROUP BY tags.value \\\n",
    "             ORDER BY count DESC \\\n",
    "             LIMIT 5;\")\n",
    "\n",
    "            \n",
    "pprint.pprint(cur.fetchall())\n",
    "\n",
    "            "
   ]
  },
  {
   "cell_type": "code",
   "execution_count": 10,
   "metadata": {
    "collapsed": false
   },
   "outputs": [
    {
     "name": "stdout",
     "output_type": "stream",
     "text": [
      "[('christian', 492),\n",
      " ('muslim', 6),\n",
      " ('jewish', 5),\n",
      " ('unitarian_universalist', 3),\n",
      " ('bahai', 1),\n",
      " ('eckankar', 1),\n",
      " ('hindu', 1),\n",
      " ('sai_baba', 1)]\n"
     ]
    }
   ],
   "source": [
    "import pprint\n",
    "cur.execute (\"SELECT tags.value, COUNT(*) as num FROM (SELECT * FROM nodes_tags UNION ALL \\\n",
    "             SELECT * FROM ways_tags) tags \\\n",
    "             WHERE tags.key LIKE '%religion'\\\n",
    "             GROUP BY tags.value \\\n",
    "             ORDER BY num DESC;\")\n",
    "\n",
    "pprint.pprint(cur.fetchall())"
   ]
  },
  {
   "cell_type": "code",
   "execution_count": 12,
   "metadata": {
    "collapsed": false
   },
   "outputs": [
    {
     "name": "stdout",
     "output_type": "stream",
     "text": [
      "[('parking', 2560),\n",
      " ('restaurant', 604),\n",
      " ('bicycle_parking', 577),\n",
      " ('place_of_worship', 539),\n",
      " ('fast_food', 295),\n",
      " ('school', 229),\n",
      " ('fuel', 218),\n",
      " ('bench', 134),\n",
      " ('waste_basket', 120),\n",
      " ('bank', 119)]\n"
     ]
    }
   ],
   "source": [
    "import pprint\n",
    "cur.execute (\"SELECT tags.value, COUNT(*) as num FROM (SELECT * FROM nodes_tags UNION ALL \\\n",
    "             SELECT * FROM ways_tags) tags \\\n",
    "             WHERE tags.key LIKE '%amenity'\\\n",
    "             GROUP BY tags.value \\\n",
    "             ORDER BY num DESC limit 10;\")\n",
    "\n",
    "pprint.pprint(cur.fetchall())"
   ]
  },
  {
   "cell_type": "code",
   "execution_count": 13,
   "metadata": {
    "collapsed": false
   },
   "outputs": [
    {
     "name": "stdout",
     "output_type": "stream",
     "text": [
      "[('bakery', 20),\n",
      " ('bar', 66),\n",
      " ('cafe', 112),\n",
      " ('hotel', 136),\n",
      " ('pub', 48),\n",
      " ('restaurant', 605)]\n"
     ]
    }
   ],
   "source": [
    "import pprint\n",
    "\n",
    "cur.execute (\"SELECT value, COUNT (*) \\\\\n",
    "\n",
    "     FROM(SELECT * from nodes_tags as N UNION ALL \\\n",
    "          SELECT * from ways_tags as M) as O \\\n",
    "          WHERE (value = 'restaurant' or value = 'hotel' or \\\n",
    "                 value = 'pub' or value = 'bar' or \\\n",
    "                 value = 'cafe' or value ='bakery') \\\n",
    "        GROUP BY value;\")\n",
    "             \n",
    "pprint.pprint(cur.fetchall()) "
   ]
  },
  {
   "cell_type": "code",
   "execution_count": 14,
   "metadata": {
    "collapsed": false
   },
   "outputs": [
    {
     "name": "stdout",
     "output_type": "stream",
     "text": [
      "[('burger', 89),\n",
      " ('sandwich', 63),\n",
      " ('mexican', 59),\n",
      " ('pizza', 57),\n",
      " ('american', 53)]\n"
     ]
    }
   ],
   "source": [
    "import pprint\n",
    "\n",
    "cur.execute(\"SELECT tags.value, COUNT(*) as count \\\n",
    "             FROM (SELECT * FROM nodes_tags UNION ALL SELECT * FROM ways_tags)tags \\\n",
    "             WHERE tags.key LIKE '%cuisine'\\\n",
    "             GROUP BY tags.value \\\n",
    "             ORDER BY count DESC \\\n",
    "             LIMIT 5;\")\n",
    "pprint.pprint(cur.fetchall()) "
   ]
  },
  {
   "cell_type": "code",
   "execution_count": 14,
   "metadata": {
    "collapsed": false
   },
   "outputs": [
    {
     "name": "stdout",
     "output_type": "stream",
     "text": [
      "[('+1-919-572-8808',),\n",
      " ('+1 919 286 4211',),\n",
      " ('9192861179',),\n",
      " ('+1 919 560 3912',),\n",
      " ('+1 919 560 3925',),\n",
      " ('+1 919 668 4000',),\n",
      " ('+1 919 286 4421',),\n",
      " ('+1 919 681 3937',),\n",
      " ('+1 919 286 1593',),\n",
      " ('+1 919 7972634',)]\n"
     ]
    }
   ],
   "source": [
    "import pprint\n",
    "cur.execute (\"SELECT value  FROM ways_tags \\\n",
    "             WHERE key = 'phone' \\\n",
    "             LIMIT 10;\")\n",
    "\n",
    "pprint.pprint(cur.fetchall())"
   ]
  },
  {
   "cell_type": "code",
   "execution_count": 29,
   "metadata": {
    "collapsed": false
   },
   "outputs": [
    {
     "name": "stdout",
     "output_type": "stream",
     "text": [
      "OSM File Size is: 483.61722 MB\n",
      "project.db file is: 275.780608 MB\n",
      "nodes.csv file is: 190.804602 MB\n",
      "nodes_tags.csv file is: 2.195973 MB\n",
      "ways.csv file is: 14.009066 MB\n",
      "ways_nodes.csv file is: 63.019839 MB\n",
      "ways_tags.csv file is: 30.812796 MB\n"
     ]
    }
   ],
   "source": [
    "import os\n",
    "\n",
    "print \"OSM File Size is:\", os.path.getsize('raleigh_north-carolina.osm')*1e-6, \"MB\" \n",
    "print \"project.db file is:\", os.path.getsize('project.db')*1e-6, \"MB\"\n",
    "print \"nodes.csv file is:\", os.path.getsize('nodes.csv')*1e-6, \"MB\"\n",
    "print \"nodes_tags.csv file is:\", os.path.getsize('nodes_tags.csv')*1e-6, \"MB\"\n",
    "print \"ways.csv file is:\", os.path.getsize('ways.csv')*1e-6, \"MB\"\n",
    "print \"ways_nodes.csv file is:\", os.path.getsize('ways_nodes.csv')*1e-6, \"MB\"\n",
    "print \"ways_tags.csv file is:\", os.path.getsize('ways_tags.csv')*1e-6, \"MB\""
   ]
  },
  {
   "cell_type": "code",
   "execution_count": null,
   "metadata": {
    "collapsed": true
   },
   "outputs": [],
   "source": []
  },
  {
   "cell_type": "code",
   "execution_count": null,
   "metadata": {
    "collapsed": true
   },
   "outputs": [],
   "source": []
  },
  {
   "cell_type": "code",
   "execution_count": null,
   "metadata": {
    "collapsed": true
   },
   "outputs": [],
   "source": []
  },
  {
   "cell_type": "code",
   "execution_count": null,
   "metadata": {
    "collapsed": true
   },
   "outputs": [],
   "source": []
  },
  {
   "cell_type": "code",
   "execution_count": null,
   "metadata": {
    "collapsed": true
   },
   "outputs": [],
   "source": []
  }
 ],
 "metadata": {
  "anaconda-cloud": {},
  "kernelspec": {
   "display_name": "Python [default]",
   "language": "python",
   "name": "python2"
  },
  "language_info": {
   "codemirror_mode": {
    "name": "ipython",
    "version": 2
   },
   "file_extension": ".py",
   "mimetype": "text/x-python",
   "name": "python",
   "nbconvert_exporter": "python",
   "pygments_lexer": "ipython2",
   "version": "2.7.12"
  }
 },
 "nbformat": 4,
 "nbformat_minor": 1
}
